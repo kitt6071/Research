{
 "cells": [
  {
   "cell_type": "code",
   "execution_count": null,
   "id": "21a4897b-6767-45a9-a324-6e48e7671581",
   "metadata": {},
   "outputs": [],
   "source": [
    "import xarray as xr\n",
    "import matplotlib.pyplot as plt\n",
    "import numpy as np\n",
    "import pandas as pd\n",
    "import hvplot.xarray\n",
    "from hvplot import hvPlot\n",
    "from scipy.stats import gamma\n",
    "from docx import Document\n",
    "doc = Document()\n",
    "\n",
    "ds = xr.open_dataset('Ts300_warm_dx0.125_npz151_3d_inst.nc', decode_times=False)\n",
    "time_range = ds.time.values\n",
    "grid_xt_range = ds.grid_xt.values\n",
    "grid_yt_range = ds.grid_yt.values\n",
    "\n",
    "prec_mp = ds['prec_mp']\n",
    "\n",
    "flattened = prec_mp.values.flatten()\n",
    "flattened = flattened[flattened > 0]\n",
    "log_precip = np.log10(flattened)\n",
    "\n",
    "# Histogram\n",
    "bins = np.logspace(np.min(log_precip), np.max(log_precip), 50)\n",
    "plt.hist(flattened, bins=bins, density=True, alpha=0.6, color='g')\n",
    "\n",
    "\n",
    "# Fit a gamma distribution\n",
    "shape, loc, scale = gamma.fit(flattened)\n",
    "support = np.logspace(np.log10(flattened.min()), np.log10(flattened.max()), 100)\n",
    "pdf_gamma = gamma.pdf(support, shape, loc, scale)\n",
    "plt.plot(support, pdf_gamma, \"r-\", label=f'gamma pdf')\n",
    "\n",
    "# axes to log scale\n",
    "plt.gca().set_xscale(\"log\")\n",
    "plt.gca().set_yscale(\"log\")\n",
    "plt.title('Log-Log Histogram with Gamma Fit')\n",
    "plt.xlabel('Log Surface Total Precipitation Rate')\n",
    "plt.ylabel('Density')\n",
    "plt.legend()\n",
    "plt.show()\n",
    "flattened = prec_mp.values.flatten()\n",
    "plt.savefig('plot1.png')\n",
    "doc.add_paragraph(\"This plot shows the distribution of surface total precipitation rate (log scale) with a gamma distribution fit. It's a log-log plot with the x-axis representing the log of surface total precipitation rate, and the y-axis representing the density. This histogram and the fitted gamma distribution can give us insights about the distribution of precipitation rates, showing where the majority of the values lie and how much variability there is in the data.\")\n",
    "doc.add_picture('plot1.png')\n",
    "\n",
    "plt.hist(flattened, bins=100)\n",
    "plt.title('Histogram of Surface Total Precipitation Rate')\n",
    "plt.xlabel('Surface Total Precipitation Rate (mm/day)')\n",
    "plt.ylabel('Frequency')\n",
    "plt.show()\n",
    "plt.savefig('plot2.png')\n",
    "doc.add_paragraph('This plot shows a histogram of the surface total precipitation rate. The x-axis represents the surface total precipitation rate in mm/day, and the y-axis represents the frequency. This plot provides a straightforward way to visualize how often different ranges of precipitation rates occur, giving us an understanding of common, rare, and extreme precipitation rates.')\n",
    "doc.add_picture('plot2.png')\n",
    "\n"
   ]
  },
  {
   "cell_type": "code",
   "execution_count": null,
   "id": "a9cb551f-b66e-44b4-9ef8-63a630e4842e",
   "metadata": {},
   "outputs": [],
   "source": [
    "\n",
    "print(ds.variables)\n",
    "precip_rate = ds['prec_mp']\n",
    "# ravel flattens to 1d array\n",
    "precip_rate_1D = precip_rate.values.ravel()\n",
    "# remove invalid data\n",
    "precip_rate_1D = precip_rate_1D[~np.isnan(precip_rate_1D)]\n",
    "plt.hist(precip_rate_1D, bins=60) \n",
    "plt.show()\n",
    "plt.savefig('plot3.png')\n",
    "doc.add_paragraph(\"This histogram displays the distribution of the precipitation rates after they've been transformed into a one-dimensional array. By disregarding the spatial structure of the data, this histogram shows the overall distribution of precipitation rates in the dataset.\")\n",
    "\n",
    "doc.add_picture('plot3.png')\n",
    "\n"
   ]
  },
  {
   "cell_type": "code",
   "execution_count": null,
   "id": "93bc1c64-bc6c-4e65-80d2-bf18efb30533",
   "metadata": {},
   "outputs": [],
   "source": [
    "\n",
    "airr = ds.prec_mp\n",
    "air1d = airr.isel(grid_xt=grid_xt_range[10], grid_yt=grid_yt_range[10])\n",
    "\n",
    "air1d.plot()\n",
    "plt.show()\n",
    "plt.savefig('plot4.png')\n",
    "doc.add_paragraph(\"This line graph shows how the precipitation rate at a certain location (grid_xt=10, grid_yt=10) changes over time. This can provide insights about any temporal patterns or trends in the precipitation rate at this location, such as periodic cycles or long-term increases or decreases.\")\n",
    "\n",
    "doc.add_picture('plot4.png')\n",
    "\n",
    "air1d[:200].plot.line(\"b-^\")\n",
    "air1d.plot()\n",
    "plt.show()\n"
   ]
  },
  {
   "cell_type": "code",
   "execution_count": null,
   "id": "c184fe01-7614-4e1a-83d9-42c5200b76c5",
   "metadata": {},
   "outputs": [],
   "source": [
    "\n",
    "prec_at_loc = ds['prec_mp'].isel(grid_xt=grid_xt_range[10], grid_yt=grid_yt_range[10])\n",
    "\n",
    "# time-series graph of the precipitation rate at location\n",
    "prec_at_loc.plot()\n",
    "plt.show()\n",
    "plt.savefig('plot6.png')\n",
    "doc.add_paragraph(\"This plot shows the precipitation rate at a certain location (grid_xt=10, grid_yt=10) over time. It's a time-series plot which provides insight into how precipitation changes over time at this specific location, revealing trends, patterns or outliers.\")\n",
    "\n",
    "doc.add_picture('plot6.png')\n",
    "prec_at_time = ds['prec_mp'].isel(time=time_range[0])\n"
   ]
  },
  {
   "cell_type": "code",
   "execution_count": null,
   "id": "fa1f47b5-43e0-4ad7-ae1b-3329246002b8",
   "metadata": {},
   "outputs": [],
   "source": [
    "\n",
    "# histogram of the precipitation rates\n",
    "prec_at_time.plot.hist(bins=100)\n",
    "plt.show()\n",
    "\n",
    "prec_at_time.plot()\n",
    "plt.show()\n",
    "prec_at_time.plot.hist(bins=30, range=[0, 20])\n",
    "plt.show()\n",
    "plt.savefig('plot7.png')\n",
    "doc.add_paragraph(\"This histogram shows the distribution of precipitation rates at a specific time (time=0), specifically focusing on the range 0-20 mm/day. This plot allows us to see the frequency of different precipitation rates during this specific time period.\")\n",
    "\n",
    "doc.add_picture('plot7.png')\n"
   ]
  },
  {
   "cell_type": "code",
   "execution_count": null,
   "id": "aa5323a9-878f-4891-8970-2bb6789f70b2",
   "metadata": {},
   "outputs": [],
   "source": [
    "\n",
    "prec_at_loc = ds['prec_mp'].isel(grid_xt=grid_xt_range[10], grid_yt=grid_yt_range[10])\n",
    "# 3D graph!pip install hvplot\n",
    "prec_at_loc.hvplot()\n",
    "# 2D plot\n",
    "# surface total precipitation rate every 10 step\n",
    "prec_at_times = ds['prec_mp'].isel(time=slice(0,time_range[-1],len(time_range) // 6) \n",
    "prec_at_times.plot(col='time', col_wrap=3)\n",
    "plt.show()\n",
    "plt.savefig('plot8.png')\n",
    "doc.add_paragraph(\"This set of plots shows the spatial distribution of precipitation rates at different times, specifically every 10th time step. Each plot provides a snapshot of the precipitation rates at one time, allowing us to see how the spatial pattern of precipitation changes over time.\")\n",
    "\n",
    "doc.add_picture('plot8.png')\n"
   ]
  },
  {
   "cell_type": "code",
   "execution_count": null,
   "id": "4a8b33e9-76a8-4150-87d8-65de09474b0c",
   "metadata": {},
   "outputs": [],
   "source": [
    "\n",
    "# average over spatial dimensions\n",
    "average_prec = ds['prec_mp'].mean(dim=['grid_xt', 'grid_yt'])\n",
    "\n",
    "# line plot\n",
    "average_prec.plot()\n",
    "plt.title('Average Precipitation Rate Over Time')\n",
    "plt.xlabel('Time')\n",
    "plt.ylabel('Average Precipitation Rate (mm/day)')\n",
    "plt.show()\n",
    "plt.savefig('plot9.png')\n",
    "doc.add_paragraph(\"This line graph shows the average precipitation rate over time. It provides a summary of how the overall level of precipitation changes over time, smoothing out the local and regional variability.\")\n",
    "\n",
    "doc.add_picture('plot9.png')\n",
    "\n",
    "\n",
    "\n",
    "\n",
    "\n",
    "\n"
   ]
  },
  {
   "cell_type": "code",
   "execution_count": null,
   "id": "90e23d63-354d-4506-987d-d08d0ec5f045",
   "metadata": {},
   "outputs": [],
   "source": [
    "# group by lat bins and calc mean and std dev\n",
    "prec_mp_grp = ds['prec_mp'].mean([\"time\", \"grid_xt\"]).groupby_bins(\"grid_yt\", [0, 23.5, 66.5, 90])\n",
    "prec_mp_mean = prec_mp_grp.mean()\n",
    "prec_mp_std = prec_mp_grp.std()\n",
    "# mean and the mean +/- std dev\n",
    "prec_mp_mean.plot.step()\n",
    "(prec_mp_mean + prec_mp_std).plot.step(ls=\":\")\n",
    "(prec_mp_mean - prec_mp_std).plot.step(ls=\":\")\n",
    "\n",
    "# plot limits and title\n",
    "plt.ylim(0, 90)\n",
    "plt.title(\"Zonal mean precipitation rate\")\n",
    "plt.show()\n",
    "plt.savefig('plot18.png')\n",
    "doc.add_paragraph(\"This step plot shows the zonal mean precipitation rate and its standard deviation. The plot provides insight into how precipitation varies by latitude, indicating which latitudinal zones have higher or lower average precipitation.\")\n",
    "\n",
    "doc.add_picture('plot18.png')\n",
    "\n"
   ]
  },
  {
   "cell_type": "code",
   "execution_count": null,
   "id": "cf437678-5fae-4783-a547-ce6ef1398dab",
   "metadata": {},
   "outputs": [],
   "source": [
    "# plot against latitude\n",
    "ds['prec_mp'].isel(time=time_range[10], grid_xt=[grid_xt_range[10], grid_xt_range[11]]).plot(y=\"grid_yt\", hue=\"grid_xt\")\n",
    "plt.show()\n",
    "plt.savefig('plot19.png')\n",
    "doc.add_paragraph(\"This plot shows the precipitation rates at time=10 for two different longitude points (grid_xt=10, 11), plotted against latitude. It provides a way to compare the latitudinal profile of precipitation at these two points.\")\n",
    "\n",
    "doc.add_picture('plot19.png')\n",
    "\n"
   ]
  },
  {
   "cell_type": "code",
   "execution_count": null,
   "id": "e2700bf8-36fc-4db5-8177-83d6a0c8e0ce",
   "metadata": {},
   "outputs": [],
   "source": [
    "# plot against time\n",
    "ds['prec_mp'].isel(grid_xt=grid_xt_range[10], grid_yt=grid_yt_range[19:22]).plot.line(x=\"time\")\n",
    "plt.show()\n",
    "plt.savefig('plot20.png')\n",
    "doc.add_paragraph(\"This line plot shows the precipitation rates at a specific longitude point (grid_xt=10) for three different latitude points (grid_yt=19, 21, 22), plotted over time. It provides a means to compare the temporal pattern of precipitation at these three points.\")\n",
    "\n",
    "doc.add_picture('plot20.png')\n"
   ]
  },
  {
   "cell_type": "code",
   "execution_count": null,
   "id": "796a5e99-2575-42c1-82ba-f80fc9d983fe",
   "metadata": {},
   "outputs": [],
   "source": [
    "\n",
    "# precipitation rate at location over the first 10 steps\n",
    "ds['prec_mp'].isel(grid_xt=grid_xt_range[10], grid_yt=grid_yt_range[10], time=slice(0,time_range[10])).plot.line(drawstyle='steps')\n",
    "plt.show()\n",
    "plt.savefig('plot14.png')\n",
    "doc.add_paragraph(\"This step plot shows the precipitation rate at a certain location (grid_xt=10, grid_yt=10) for the first 10 steps. It provides a clear view of the changes in precipitation rate during these initial time steps.\")\n",
    "\n",
    "doc.add_picture('plot14.png')\n"
   ]
  },
  {
   "cell_type": "code",
   "execution_count": null,
   "id": "12bc61d0-b807-4ee7-9be4-30c47784e067",
   "metadata": {},
   "outputs": [],
   "source": [
    "# line plot with log y\n",
    "ds['prec_mp'].isel(grid_xt=grid_xt_range[10], grid_yt=grid_yt_range[10], time=slice(0,time_range[-1])).plot.line(yscale='log')\n",
    "plt.show()\n",
    "plt.savefig('plot15.png')\n",
    "doc.add_paragraph(\"This line plot shows the precipitation rate at a certain location (grid_xt=10, grid_yt=10) over time, with the y-axis on a log scale. This can emphasize relative changes and is particularly useful when the data spans several orders of magnitude.\")\n",
    "\n",
    "doc.add_picture('plot15.png')\n",
    "\n"
   ]
  },
  {
   "cell_type": "code",
   "execution_count": null,
   "id": "427696ed-4f4b-4350-9fad-126dd087e900",
   "metadata": {},
   "outputs": [],
   "source": [
    "# surface plot precipitation rate\n",
    "ds['prec_mp'].isel(time=time_range[0]).plot.surface()\n",
    "plt.show()\n",
    "plt.savefig('plot16.png')\n",
    "doc.add_paragraph(\"This surface plot depicts the precipitation rate at time=0 in a 3D perspective. This representation helps understand patterns, peaks, and valleys of precipitation rate in a spatial context.\")\n",
    "\n",
    "doc.add_picture('plot16.png')\n"
   ]
  },
  {
   "cell_type": "code",
   "execution_count": null,
   "id": "842439de-6aec-4f0f-8982-ffe5ab50af64",
   "metadata": {},
   "outputs": [],
   "source": [
    "# facet plot of precipitation rate\n",
    "ds['prec_mp'].isel(time=slice(0,time_range[-1],len(time_range) // 6)).plot(col='time', col_wrap=3)\n",
    "plt.show()\n",
    "plt.savefig('plot17.png')\n",
    "doc.add_paragraph(\"These facet plots represent the precipitation rate at different time steps, specifically every 10th time step. Each plot is a snapshot of the precipitation rate at a specific time, enabling comparisons of the spatial pattern of precipitation at different times.\")\n",
    "\n",
    "doc.add_picture('plot17.png')"
   ]
  },
  {
   "cell_type": "code",
   "execution_count": null,
   "id": "84250c80-6a1e-4b4f-a15c-56788e178f3c",
   "metadata": {},
   "outputs": [],
   "source": [
    "prec_at_time = ds['prec_mp'].isel(time=time_range[0])\n",
    "\n",
    "# contours of precipitation rate\n",
    "prec_at_time.plot.contour(levels=10)\n",
    "plt.show()\n",
    "plt.savefig('plot10.png')\n",
    "doc.add_paragraph(\"This contour plot shows the spatial distribution of precipitation rates at a certain time (time=0). The contours allow us to see regions of similar precipitation rates, providing a summary of the spatial pattern of precipitation.\")\n",
    "\n",
    "doc.add_picture('plot10.png')\n",
    "\n"
   ]
  },
  {
   "cell_type": "code",
   "execution_count": null,
   "id": "48bd5c97-725d-40f4-b1af-8e9bf8e947cf",
   "metadata": {},
   "outputs": [],
   "source": [
    "prec_at_time = ds['prec_mp'].isel(time=time_range[0])\n",
    "\n",
    "# pcolormesh plot\n",
    "prec_at_time.plot.pcolormesh()\n",
    "plt.show()\n",
    "plt.savefig('plot11.png')\n",
    "doc.add_paragraph(\"This is a pseudocolor plot which displays the precipitation rate at a certain time (time=0) over a 2D grid. The color intensity corresponds to the precipitation rate. It's a great tool to visualize spatial patterns and areas with higher or lower precipitation rates.\")\n",
    "\n",
    "doc.add_picture('plot11.png')\n"
   ]
  },
  {
   "cell_type": "code",
   "execution_count": null,
   "id": "9e7162db-cebf-4e58-9358-6b0a2627a8d9",
   "metadata": {},
   "outputs": [],
   "source": [
    "ds['prec_mp'].isel(grid_xt=grid_xt_range[10], grid_yt=grid_yt_range[10], time=slice(time_range[0], time_range[9])).plot.line(x='time', hue='time')\n",
    "plt.show()\n",
    "plt.savefig('plot12.png')\n",
    "doc.add_paragraph(\"This line plot shows the precipitation rate at a certain location (grid_xt=10, grid_yt=10) for the first 10 steps. It provides a quick snapshot of how precipitation changes over the early period of time.\")\n",
    "\n",
    "doc.add_picture('plot12.png')\n"
   ]
  },
  {
   "cell_type": "code",
   "execution_count": null,
   "id": "84a537b8-8272-4ff8-852e-2887c308fe2f",
   "metadata": {},
   "outputs": [],
   "source": [
    "# precipitation rates with time on y \n",
    "ds['prec_mp'].isel(grid_xt=grid_xt_range[10], grid_yt=grid_yt_range[10], time=slice(time_range[0], time_range[-1])).plot.line(y='time')\n",
    "plt.show()\n",
    "plt.savefig('plot13.png')\n",
    "doc.add_paragraph(\"This line plot depicts precipitation rates at a particular location (grid_xt=10, grid_yt=10) with time represented on the y-axis. It offers a different perspective on how precipitation rates change over time.\")\n",
    "\n",
    "doc.add_picture('plot13.png')"
   ]
  }
 ],
 "metadata": {
  "kernelspec": {
   "display_name": "Python 3 (ipykernel)",
   "language": "python",
   "name": "python3"
  },
  "language_info": {
   "codemirror_mode": {
    "name": "ipython",
    "version": 3
   },
   "file_extension": ".py",
   "mimetype": "text/x-python",
   "name": "python",
   "nbconvert_exporter": "python",
   "pygments_lexer": "ipython3",
   "version": "3.9.16"
  }
 },
 "nbformat": 4,
 "nbformat_minor": 5
}
